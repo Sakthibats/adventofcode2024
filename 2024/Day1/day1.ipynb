{
 "cells": [
  {
   "cell_type": "code",
   "execution_count": 1,
   "metadata": {},
   "outputs": [],
   "source": [
    "import pandas as pd"
   ]
  },
  {
   "cell_type": "code",
   "execution_count": 2,
   "metadata": {},
   "outputs": [],
   "source": [
    "# Read the .txt file into a DataFrame\n",
    "file_path = 'input.txt'  # Replace with the path to your file\n",
    "df = pd.read_csv(file_path, delimiter='   ', engine='python', header=None, names=['col1', 'col2'])"
   ]
  },
  {
   "cell_type": "code",
   "execution_count": 4,
   "metadata": {},
   "outputs": [],
   "source": [
    "col2_value_counts = df['col2'].value_counts().to_dict()\n",
    "col1_value_counts = df['col1'].value_counts().to_dict()"
   ]
  },
  {
   "cell_type": "code",
   "execution_count": 11,
   "metadata": {},
   "outputs": [],
   "source": [
    "final = 0\n",
    "for i in list(col1_value_counts.keys()):\n",
    "    final += i*col1_value_counts[i]*col2_value_counts.get(i, 0)\n",
    "\n",
    "# print(final)\n"
   ]
  },
  {
   "cell_type": "code",
   "execution_count": null,
   "metadata": {},
   "outputs": [],
   "source": []
  }
 ],
 "metadata": {
  "kernelspec": {
   "display_name": "Python 3",
   "language": "python",
   "name": "python3"
  },
  "language_info": {
   "codemirror_mode": {
    "name": "ipython",
    "version": 3
   },
   "file_extension": ".py",
   "mimetype": "text/x-python",
   "name": "python",
   "nbconvert_exporter": "python",
   "pygments_lexer": "ipython3",
   "version": "3.11.9"
  }
 },
 "nbformat": 4,
 "nbformat_minor": 2
}
