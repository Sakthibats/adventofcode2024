{
 "cells": [
  {
   "cell_type": "code",
   "execution_count": 2,
   "metadata": {},
   "outputs": [],
   "source": [
    "import pandas as pd"
   ]
  },
  {
   "cell_type": "code",
   "execution_count": 28,
   "metadata": {},
   "outputs": [
    {
     "name": "stdout",
     "output_type": "stream",
     "text": [
      "439\n"
     ]
    }
   ],
   "source": [
    "# Define the validation function\n",
    "def validate_line(numbers):\n",
    "    # Check if the numbers are strictly increasing\n",
    "    if all((numbers[i] < numbers[i + 1] and abs(numbers[i] - numbers[i + 1])<=3) for i in range(len(numbers) - 1)):\n",
    "        return 1\n",
    "    # Check if the numbers are strictly decreasing\n",
    "    elif all((numbers[i] > numbers[i + 1]  and abs(numbers[i] - numbers[i + 1])<=3) for i in range(len(numbers) - 1)):\n",
    "        return 1\n",
    "    else:\n",
    "        return 0\n",
    "    \n",
    "def validate_line2(line):\n",
    "    # Convert the line into a list of integers\n",
    "    numbers = list(map(int, line.split()))\n",
    "    if validate_line(numbers)==1:\n",
    "        return 1\n",
    "    else:\n",
    "        for i in range(len(numbers)):\n",
    "            newarr = numbers[:i]+numbers[i+1:]\n",
    "            if validate_line(newarr) ==1:\n",
    "                return 1\n",
    "        return 0\n",
    "\n",
    "# Initialize an array to store results\n",
    "results = []\n",
    "\n",
    "# Read the file and process line by line\n",
    "file_path = 'input.txt'  # Replace with your file path\n",
    "with open(file_path, 'r') as file:\n",
    "    for line in file:\n",
    "        # print(line.strip(\"\"))\n",
    "        line =  line.strip() # Remove leading/trailing whitespace\n",
    "        is_valid = validate_line2(line)  # Apply the validation function\n",
    "        results.append(is_valid)  # Store the result (True/False)\n",
    "\n",
    "# print(sum(results))"
   ]
  },
  {
   "cell_type": "code",
   "execution_count": null,
   "metadata": {},
   "outputs": [],
   "source": []
  }
 ],
 "metadata": {
  "kernelspec": {
   "display_name": "Python 3",
   "language": "python",
   "name": "python3"
  },
  "language_info": {
   "codemirror_mode": {
    "name": "ipython",
    "version": 3
   },
   "file_extension": ".py",
   "mimetype": "text/x-python",
   "name": "python",
   "nbconvert_exporter": "python",
   "pygments_lexer": "ipython3",
   "version": "3.11.9"
  }
 },
 "nbformat": 4,
 "nbformat_minor": 2
}
